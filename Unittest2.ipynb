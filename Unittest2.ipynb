{
 "cells": [
  {
   "cell_type": "code",
   "execution_count": 1,
   "metadata": {},
   "outputs": [],
   "source": [
    "def fib(n):\n",
    "    if n < 1 :\n",
    "        return []\n",
    "    if n == 1:\n",
    "        return [1]\n",
    "    if n == 2:\n",
    "        return [1, 1]\n",
    "    fibs = [1, 1]\n",
    "    for i in range(2, n):\n",
    "        fibs.append(fibs[i - 1] + fibs[i - 2])\n",
    "    return fibs"
   ]
  },
  {
   "cell_type": "code",
   "execution_count": 2,
   "metadata": {},
   "outputs": [],
   "source": [
    "import unittest"
   ]
  },
  {
   "cell_type": "code",
   "execution_count": 3,
   "metadata": {},
   "outputs": [],
   "source": [
    "class FibTest(unittest.TestCase):\n",
    "    def test_generate_5_fibs(self):\n",
    "        self.assertEqual(fib(5), [1, 1, 2, 3, 5])\n",
    "\n",
    "    def test_generate_10_fibs(self):\n",
    "        self.assertEqual(fib(10), [1, 1, 2, 3, 5, 8, 13, 21, 34, 55])\n",
    "\n",
    "    def test_generate_negative_number_fibs(self):\n",
    "        self.assertEqual(fib(-2), [])\n",
    "\n",
    "    def test_generate_0_number_fibs(self):\n",
    "        self.assertEqual(fib(0), [])\n",
    "\n",
    "    def test_generate_1_number_fibs(self):\n",
    "        self.assertEqual(fib(1), [1])\n",
    "\n",
    "    def test_generate_2_number_fibs(self):\n",
    "        self.assertEqual(fib(2), [1, 1])\n"
   ]
  },
  {
   "cell_type": "code",
   "execution_count": 4,
   "metadata": {},
   "outputs": [
    {
     "name": "stderr",
     "output_type": "stream",
     "text": [
      "......\n",
      "----------------------------------------------------------------------\n",
      "Ran 6 tests in 0.014s\n",
      "\n",
      "OK\n"
     ]
    }
   ],
   "source": [
    "if __name__ == '__main__':\n",
    "    unittest.main(argv=['first-arg-is-ignored'], exit=False)"
   ]
  },
  {
   "cell_type": "code",
   "execution_count": null,
   "metadata": {},
   "outputs": [],
   "source": []
  }
 ],
 "metadata": {
  "kernelspec": {
   "display_name": "Python 3",
   "language": "python",
   "name": "python3"
  },
  "language_info": {
   "codemirror_mode": {
    "name": "ipython",
    "version": 3
   },
   "file_extension": ".py",
   "mimetype": "text/x-python",
   "name": "python",
   "nbconvert_exporter": "python",
   "pygments_lexer": "ipython3",
   "version": "3.7.0"
  }
 },
 "nbformat": 4,
 "nbformat_minor": 2
}
