{
 "cells": [
  {
   "cell_type": "code",
   "execution_count": 1,
   "metadata": {},
   "outputs": [],
   "source": [
    "import numpy as np"
   ]
  },
  {
   "cell_type": "code",
   "execution_count": 2,
   "metadata": {},
   "outputs": [],
   "source": [
    "# 需求1.构造停车场\n",
    "\n",
    "class Parking():#停车场\n",
    "    def _init_(self):\n",
    "        self.car_max = 100  # 最大车位数\n",
    "        self.car_num = 0  # 停车场停车数\n",
    "        self.car_mark = np.random.rand(1, self.car_max)  # 每个车位对应的停车票\n",
    "\n",
    "    def parking(self):#停车\n",
    "        if (self.car_num < car_max):  # 可停车\n",
    "            print('停车票是', self.car_mark(1, self.car_num))\n",
    "            self.car_num = self.car_num + 1\n",
    "            return self.car_mark(1, self.car_num - 1)\n",
    "        else:\n",
    "            print('停车场已满')\n",
    "            return -1\n",
    "\n",
    "    def pick_up(self, user_mark):\n",
    "        for i in range(self.car_max):\n",
    "            if (self.car_mark(1, i) == user_mark):  # 判断停车票是否正确\n",
    "                print('停车票正确，请取车!')\n",
    "                self.car_num = self.car_num - 1\n",
    "                return 0\n",
    "        print('停车票错误!')\n",
    "        return -1\n",
    "\n",
    "    def print_spare(self):\n",
    "        return self.car_max - self.car_num, self.car_max\n"
   ]
  },
  {
   "cell_type": "code",
   "execution_count": 3,
   "metadata": {},
   "outputs": [],
   "source": [
    "# 需求2.构造一个停车小弟（ParkingBoy）\n",
    "\n",
    "class ParkingBoy():\n",
    "\n",
    "    def _init_(self, park_lot):\n",
    "        self.car_num = 0\n",
    "        self.mark_num = {}\n",
    "        self.park_lot = park_lot#停车场队列\n",
    "\n",
    "    def parking_car(self, park_num):\n",
    "        park_mark = self.park_lot[park_num].parking()#停到park_num的停车场\n",
    "        self.mark_num[park_mark] = park_num#车票对应停车场\n",
    "\n",
    "    def pick_up_car(self, park_mark):\n",
    "        park_num = self.mark_num[park_mark]#得到停车场\n",
    "        self.park_lot[park_num].pick_up(park_mark)"
   ]
  },
  {
   "cell_type": "code",
   "execution_count": 5,
   "metadata": {},
   "outputs": [],
   "source": [
    "# 需求3.构造一个聪明的停车小弟（Smart Parking Boy）\n",
    "\n",
    "class Smart_ParkingBoy(ParkingBoy):\n",
    "    def parking_car(self, park_num):\n",
    "        max_parknum = 0\n",
    "        max_parkspare = 0\n",
    "        for i in self.park_lot:\n",
    "            parkspare, temp = self.park_lot.print_spare()\n",
    "            if (max_parkspare < parkspare):\n",
    "                max_parknum = i\n",
    "                max_parkspare = parkspare\n",
    "        park_mark = self.park_lot[max_parknum].parking()\n",
    "        self.mark_num[park_mark] = park_num"
   ]
  },
  {
   "cell_type": "code",
   "execution_count": 6,
   "metadata": {},
   "outputs": [],
   "source": [
    "#需求4.构造一个超级停车小弟（Super Parking Boy）\n",
    "\n",
    "class Super_ParkingBoy(ParkingBoy):\n",
    "    def parking_car(self, park_num):\n",
    "        max_parknum = 0\n",
    "        max_parkspare = 0\n",
    "        for i in self.park_lot:\n",
    "            parkspare, max_num = self.park_lot.print_spare()\n",
    "            temp = parkspare / max_num\n",
    "            if (max_parkspare < temp):\n",
    "                max_parknum = i\n",
    "                max_parkspare = temp\n",
    "        park_mark = self.park_lot[max_parknum].parking()\n",
    "        self.mark_num[park_mark] = park_num"
   ]
  },
  {
   "cell_type": "code",
   "execution_count": 7,
   "metadata": {},
   "outputs": [],
   "source": [
    "# 需求5.构造停车场的经理（Parking Manager）\n",
    "\n",
    "class ParkingManager(ParkingBoy):\n",
    "\n",
    "    def boy_parking(self, park_num, boy):\n",
    "        boy.parking_car(park_num)\n",
    "\n",
    "    def boy_pickup(self, park_mark, boy):\n",
    "        boy.pick_up_car(park_mark)"
   ]
  },
  {
   "cell_type": "code",
   "execution_count": null,
   "metadata": {},
   "outputs": [],
   "source": []
  }
 ],
 "metadata": {
  "kernelspec": {
   "display_name": "Python 3",
   "language": "python",
   "name": "python3"
  },
  "language_info": {
   "codemirror_mode": {
    "name": "ipython",
    "version": 3
   },
   "file_extension": ".py",
   "mimetype": "text/x-python",
   "name": "python",
   "nbconvert_exporter": "python",
   "pygments_lexer": "ipython3",
   "version": "3.7.0"
  }
 },
 "nbformat": 4,
 "nbformat_minor": 2
}
