{
 "cells": [
  {
   "cell_type": "code",
   "execution_count": 1,
   "metadata": {},
   "outputs": [],
   "source": [
    "import pandas as pd"
   ]
  },
  {
   "cell_type": "code",
   "execution_count": 4,
   "metadata": {},
   "outputs": [],
   "source": [
    "import json"
   ]
  },
  {
   "cell_type": "code",
   "execution_count": 15,
   "metadata": {},
   "outputs": [],
   "source": [
    "# 读取student.csv文件\n",
    "fo=open(\"C:\\\\Users\\\\ZCY\\\\Desktop\\\\python6.2\\\\student.csv\",\"r\",encoding='UTF-8')  #打开csv文件"
   ]
  },
  {
   "cell_type": "code",
   "execution_count": 16,
   "metadata": {},
   "outputs": [],
   "source": [
    "# 并转换为json格式输出到student.json中\n",
    "\n",
    "ls=[]\n",
    "for line in fo:\n",
    "    line=line.replace(\"\\n\",\"\")  #将换行换成空\n",
    "    ls.append(line.split(\",\"))  #以，为分隔符\n",
    "fo.close()  #关闭文件流\n",
    "fw=open(\"C:\\\\Users\\\\ZCY\\\\Desktop\\\\python6.2\\\\student.json\",\"w\",encoding='UTF-8')  #打开json文件\n",
    "for i in range(1,len(ls)):  #遍历文件的每一行内容，除了列名\n",
    "    ls[i]=dict(zip(ls[0],ls[i]))  #ls[0]为列名，所以为key,ls[i]为value,\n",
    "    #zip()是一个内置函数，将两个长度相同的列表组合成一个关系对\n",
    "json.dump(ls[1:],fw,sort_keys=True,indent=4,ensure_ascii=False)\n",
    "#将Python数据类型转换成json格式，编码过程\n",
    "# 默认是顺序存放，sort_keys是对字典元素按照key进行排序\n",
    "#indet参数用语增加数据缩进，使文件更具有可读性\n",
    "fw.close()"
   ]
  },
  {
   "cell_type": "code",
   "execution_count": null,
   "metadata": {},
   "outputs": [],
   "source": []
  }
 ],
 "metadata": {
  "kernelspec": {
   "display_name": "Python 3",
   "language": "python",
   "name": "python3"
  },
  "language_info": {
   "codemirror_mode": {
    "name": "ipython",
    "version": 3
   },
   "file_extension": ".py",
   "mimetype": "text/x-python",
   "name": "python",
   "nbconvert_exporter": "python",
   "pygments_lexer": "ipython3",
   "version": "3.7.0"
  }
 },
 "nbformat": 4,
 "nbformat_minor": 2
}
