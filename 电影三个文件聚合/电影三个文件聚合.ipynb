{
 "cells": [
  {
   "cell_type": "code",
   "execution_count": 4,
   "metadata": {},
   "outputs": [],
   "source": [
    "import pandas as pd"
   ]
  },
  {
   "cell_type": "code",
   "execution_count": 12,
   "metadata": {},
   "outputs": [],
   "source": [
    "ratings = pd.read_csv(r'C:\\Users\\ZCY\\Desktop\\file\\ratings.csv')\n",
    "movies = pd.read_csv(r'C:\\Users\\ZCY\\Desktop\\file\\movies.csv')\n",
    "tags = pd.read_csv(r'C:\\Users\\ZCY\\Desktop\\file\\tags.csv')"
   ]
  },
  {
   "cell_type": "code",
   "execution_count": 13,
   "metadata": {},
   "outputs": [],
   "source": [
    "avg_ratings=ratings.groupby(['movieId'],as_index=False)['rating'].agg({'avg_rating':'mean'})#ID,平均分"
   ]
  },
  {
   "cell_type": "code",
   "execution_count": 14,
   "metadata": {},
   "outputs": [],
   "source": [
    "temp_data=pd.merge(tags, movies, how='left',on='movieId')\n",
    "all_tags=temp_data.groupby('movieId')['tag'].apply(lambda x:x.str.cat(sep='|')).reset_index()#ID,tag串"
   ]
  },
  {
   "cell_type": "code",
   "execution_count": 15,
   "metadata": {},
   "outputs": [],
   "source": [
    "result_temp=pd.merge(movies, avg_ratings, how='left',on='movieId')\n",
    "result_temp=pd.merge(result_temp, all_tags, how='left',on='movieId')"
   ]
  },
  {
   "cell_type": "code",
   "execution_count": 16,
   "metadata": {},
   "outputs": [],
   "source": [
    "result_data=result_temp.drop(['genres'],axis=1)\n",
    "pd.options.display.max_columns =None"
   ]
  },
  {
   "cell_type": "code",
   "execution_count": 17,
   "metadata": {},
   "outputs": [],
   "source": [
    "#保存数据\n",
    "result_data.to_csv(r'C:\\Users\\ZCY\\Desktop\\file\\information.csv',index=False,encoding=\"utf_8_sig\")"
   ]
  },
  {
   "cell_type": "code",
   "execution_count": 18,
   "metadata": {},
   "outputs": [
    {
     "data": {
      "text/html": [
       "<div>\n",
       "<style scoped>\n",
       "    .dataframe tbody tr th:only-of-type {\n",
       "        vertical-align: middle;\n",
       "    }\n",
       "\n",
       "    .dataframe tbody tr th {\n",
       "        vertical-align: top;\n",
       "    }\n",
       "\n",
       "    .dataframe thead th {\n",
       "        text-align: right;\n",
       "    }\n",
       "</style>\n",
       "<table border=\"1\" class=\"dataframe\">\n",
       "  <thead>\n",
       "    <tr style=\"text-align: right;\">\n",
       "      <th></th>\n",
       "      <th>movieId</th>\n",
       "      <th>title</th>\n",
       "      <th>avg_rating</th>\n",
       "      <th>tag</th>\n",
       "    </tr>\n",
       "  </thead>\n",
       "  <tbody>\n",
       "    <tr>\n",
       "      <th>0</th>\n",
       "      <td>1</td>\n",
       "      <td>Toy Story (1995)</td>\n",
       "      <td>3.920930</td>\n",
       "      <td>pixar|pixar|fun</td>\n",
       "    </tr>\n",
       "    <tr>\n",
       "      <th>1</th>\n",
       "      <td>2</td>\n",
       "      <td>Jumanji (1995)</td>\n",
       "      <td>3.431818</td>\n",
       "      <td>fantasy|magic board game|Robin Williams|game</td>\n",
       "    </tr>\n",
       "    <tr>\n",
       "      <th>2</th>\n",
       "      <td>3</td>\n",
       "      <td>Grumpier Old Men (1995)</td>\n",
       "      <td>3.259615</td>\n",
       "      <td>moldy|old</td>\n",
       "    </tr>\n",
       "    <tr>\n",
       "      <th>3</th>\n",
       "      <td>4</td>\n",
       "      <td>Waiting to Exhale (1995)</td>\n",
       "      <td>2.357143</td>\n",
       "      <td>NaN</td>\n",
       "    </tr>\n",
       "    <tr>\n",
       "      <th>4</th>\n",
       "      <td>5</td>\n",
       "      <td>Father of the Bride Part II (1995)</td>\n",
       "      <td>3.071429</td>\n",
       "      <td>pregnancy|remake</td>\n",
       "    </tr>\n",
       "  </tbody>\n",
       "</table>\n",
       "</div>"
      ],
      "text/plain": [
       "   movieId                               title  avg_rating  \\\n",
       "0        1                    Toy Story (1995)    3.920930   \n",
       "1        2                      Jumanji (1995)    3.431818   \n",
       "2        3             Grumpier Old Men (1995)    3.259615   \n",
       "3        4            Waiting to Exhale (1995)    2.357143   \n",
       "4        5  Father of the Bride Part II (1995)    3.071429   \n",
       "\n",
       "                                            tag  \n",
       "0                               pixar|pixar|fun  \n",
       "1  fantasy|magic board game|Robin Williams|game  \n",
       "2                                     moldy|old  \n",
       "3                                           NaN  \n",
       "4                              pregnancy|remake  "
      ]
     },
     "execution_count": 18,
     "metadata": {},
     "output_type": "execute_result"
    }
   ],
   "source": [
    "result_data.head()"
   ]
  },
  {
   "cell_type": "code",
   "execution_count": null,
   "metadata": {},
   "outputs": [],
   "source": []
  }
 ],
 "metadata": {
  "kernelspec": {
   "display_name": "Python 3",
   "language": "python",
   "name": "python3"
  },
  "language_info": {
   "codemirror_mode": {
    "name": "ipython",
    "version": 3
   },
   "file_extension": ".py",
   "mimetype": "text/x-python",
   "name": "python",
   "nbconvert_exporter": "python",
   "pygments_lexer": "ipython3",
   "version": "3.7.0"
  }
 },
 "nbformat": 4,
 "nbformat_minor": 2
}
